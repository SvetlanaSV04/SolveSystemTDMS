{
 "cells": [
  {
   "cell_type": "markdown",
   "source": [
    "[Solution of the Poisson equation within the domain \\[0,1\\]](https://github.com/nithinadidela/poisson-eq-FDM/blob/master/Thomas-TDMA.py)"
   ],
   "metadata": {}
  },
  {
   "cell_type": "markdown",
   "source": [
    "## EXACT SOLUTION"
   ],
   "metadata": {}
  },
  {
   "cell_type": "code",
   "execution_count": null,
   "source": [
    "import numpy as np\r\n",
    "import math as m\r\n",
    "import scipy.misc as sm\r\n",
    "from numba import jit, f8\r\n",
    "\r\n",
    "@jit(f8(f8, f8, f8, f8))\r\n",
    "def P0(z, Bi, δ, Gr):\r\n",
    "    p1 = -2*Bi*(δ**2)*(z**4)/((1+Bi)*m.factorial(4))\r\n",
    "    p2 = 2*(δ**2)*(z**3)/((1+Bi)*m.factorial(3))\r\n",
    "    p3 = ((δ**2)*Bi*(Bi+3)-3*Bi*(Bi+1))*(z**2)/(12*((Bi+1)**2))\r\n",
    "    p4 = ((3*(Bi+1)-(δ**2)*(Bi+3))/(6*((Bi+1)**2)) - (δ**2)*(4*Bi+15)/(60*(1+Bi)))*z\r\n",
    "    return p1 + p2 + p3 + p4 + 1\r\n",
    "\r\n",
    "@jit(f8(f8, f8, f8, f8))\r\n",
    "def P11(z, Bi, δ, Gr):\r\n",
    "    p1 = Bi*(z**2)/((1+Bi)*m.factorial(2))\r\n",
    "    p2 = -z/(1+Bi)\r\n",
    "    return p1+p2\r\n",
    "\r\n",
    "@jit(f8(f8, f8, f8, f8))\r\n",
    "def T0(z, Bi, δ, Gr):\r\n",
    "    t1 = -(Bi*(δ**2)*(z**3))/((1+Bi)*m.factorial(3))\r\n",
    "    t2 = ((δ**2)*(z**2))/((1+Bi)*m.factorial(2))\r\n",
    "    t3 = ((δ**2)*Bi*(Bi+3)-3*Bi*(Bi+1))*z/(6*((Bi+1)**2))\r\n",
    "    t4 = (3*(Bi+1)-(δ**2)*(Bi+3))/(6*((Bi+1)**2)) \r\n",
    "    return t1 + t2 + t3 + t4\r\n",
    "\r\n",
    "def dP0(z, Bi, δ, Gr):\r\n",
    "    return sm.derivative(lambda z: P0(z, Bi, δ, Gr), z, dx=0.001)"
   ],
   "outputs": [],
   "metadata": {}
  },
  {
   "cell_type": "code",
   "execution_count": null,
   "source": [
    "import matplotlib.pyplot as plt\r\n",
    "from numba import jit, f8\r\n",
    "\r\n",
    "class Parameters:\r\n",
    "    def __init__(self, Bi, δ, Gr):\r\n",
    "        self.Bi = Bi\r\n",
    "        self.δ = δ\r\n",
    "        self.Gr = Gr\r\n",
    "\r\n",
    "def PrintExactSolution(exact_solution, parameters):\r\n",
    "    l=1.0\t\t\t     # length of the domain\r\n",
    "    n=100\t\t\t     # number of mesh divisions (for first question)\t\r\n",
    "    del_z=l/(n-1)\t\t # mesh size\r\n",
    "\r\n",
    "    z_values = np.zeros(n)\r\n",
    "    e_values = np.zeros(n)\r\n",
    "\r\n",
    "    z_values[0] = -1\r\n",
    "    e_values[0] = exact_solution(z_values[0], parameters.Bi, parameters.δ, parameters.Gr)\r\n",
    "\r\n",
    "    for i in range(1, len(z_values)):\r\n",
    "        z_values[i]=z_values[i-1]+del_z\r\n",
    "        e_values[i]=exact_solution(z_values[i], parameters.Bi, parameters.δ, parameters.Gr)\r\n",
    "\r\n",
    "    plt.plot(z_values, e_values, color='blue', markerfacecolor='blue', linestyle='dashed')\r\n",
    "    plt.title('Exact solution (Gr={})'.format(parameters.Gr))\r\n",
    "    plt.xlabel('Domain')\r\n",
    "    plt.ylabel('Exact Solution')\r\n",
    "    plt.show()"
   ],
   "outputs": [],
   "metadata": {}
  },
  {
   "cell_type": "code",
   "execution_count": null,
   "source": [
    "PrintExactSolution(P0, Parameters(Bi=2, δ=1.5, Gr=0))"
   ],
   "outputs": [],
   "metadata": {}
  },
  {
   "cell_type": "code",
   "execution_count": null,
   "source": [
    "PrintExactSolution(P11, Parameters(Bi=-3, δ=0, Gr=0))"
   ],
   "outputs": [],
   "metadata": {}
  },
  {
   "cell_type": "code",
   "execution_count": null,
   "source": [
    "PrintExactSolution(T0, Parameters(Bi=-3, δ=0.01, Gr=0))"
   ],
   "outputs": [],
   "metadata": {}
  },
  {
   "cell_type": "code",
   "execution_count": null,
   "source": [
    "PrintExactSolution(dP0, Parameters(Bi=-3, δ=0.01, Gr=0))"
   ],
   "outputs": [],
   "metadata": {}
  },
  {
   "cell_type": "markdown",
   "source": [
    "## NUMERICAL SOLUTION"
   ],
   "metadata": {}
  },
  {
   "cell_type": "code",
   "execution_count": null,
   "source": [
    "import numba as nb\r\n",
    "import math as mt\r\n",
    "\r\n",
    "@nb.jit(f8(nb.f8, nb.f8, nb.f8, nb.f8, nb.f8))\r\n",
    "def CalcInitialConditions(z, Bi, δ, Gr, ω):\r\n",
    "    C1 = (dP0(z, Bi, δ, Gr) - T0(z, Bi, δ, Gr)) / (δ**2)\r\n",
    "\r\n",
    "    a = 1\r\n",
    "    b = -Gr*ω\r\n",
    "    c = -1\r\n",
    "    D = ((b**2)-4*a*c)/2*a\r\n",
    "\r\n",
    "    k1 = (-b + mt.sqrt(D))/2*a\r\n",
    "    k2 = (-b - mt.sqrt(D))/2*a\r\n",
    "\r\n",
    "    λ1 = mt.exp(-k2)/(mt.exp(-k2) - mt.exp(-k1))\r\n",
    "    λ2 = -mt.exp(-k1)/(mt.exp(-k2) - mt.exp(-k1))\r\n",
    "\r\n",
    "    return λ1*mt.exp(k1*z) - λ2*mt.exp(k2*z)"
   ],
   "outputs": [],
   "metadata": {}
  },
  {
   "cell_type": "code",
   "execution_count": null,
   "source": [
    "@nb.jit(nb.types.Tuple((nb.f8[:], nb.f8[:]))(nb.f8, nb.f8, nb.f8))\r\n",
    "def CalcFirstEquation(δ, Bi, Gr):   \r\n",
    "    l=1.0\r\n",
    "    n=100\r\n",
    "    h=l/(n-1)\r\n",
    "\r\n",
    "    τ = 1e-4\r\n",
    "    ε = 1e-5\r\n",
    "\r\n",
    "    z=np.zeros(n)\r\n",
    "    α = np.zeros(n+1)\r\n",
    "    β = np.zeros(n+1)\r\n",
    "    ω = np.zeros(n)\r\n",
    "\r\n",
    "    z[0] = -1\r\n",
    "    ω[0] = 0 #CalcInitialConditions(z[0], Bi, δ, Gr, 0.5)\r\n",
    "\r\n",
    "    α[0] = 0\r\n",
    "    β[0] = 0\r\n",
    "\r\n",
    "    for i in range(1, n):\r\n",
    "        z[i]=i*h + z[0]\r\n",
    "\r\n",
    "        ω_t1 = ω[i-1]\r\n",
    "        ω_t2 = 0\r\n",
    "\r\n",
    "        while True:\r\n",
    "            C1 = dP0(z[i], Bi, δ, Gr) - T0(z[i], Bi, δ, Gr)\r\n",
    "\r\n",
    "            Ai = ((δ**2)/(h**2) + (Gr*(δ**2)*ω_t1/(2*h)))\r\n",
    "            Bi = -2*(δ**2)/(h**2) - 1/τ\r\n",
    "            Ci = ((δ**2)/(h**2) - (Gr*(δ**2)*ω_t1/(2*h)))\r\n",
    "            Fi =  C1 - ω_t1/τ\r\n",
    "\r\n",
    "            α[i+1] = -Ci/(α[i]*Ai + Bi)\r\n",
    "            β[i+1] = (Fi-Ai*β[i])/(α[i]*Ai + Bi)\r\n",
    "            ω_t2 = α[i+1]*ω_t1 + β[i+1]\r\n",
    "\r\n",
    "            if abs(ω_t1 - ω_t2) <= ε:\r\n",
    "                break\r\n",
    "\r\n",
    "            ω_t1 = ω_t2\r\n",
    "\r\n",
    "        ω[i] = ω_t2\r\n",
    "    return z, ω"
   ],
   "outputs": [],
   "metadata": {}
  },
  {
   "cell_type": "code",
   "execution_count": null,
   "source": [
    "δ=1\r\n",
    "Bi=-3\r\n",
    "Gr=0.03\r\n",
    "\r\n",
    "z, ω = CalcFirstEquation(δ, Bi, Gr)\r\n",
    "\r\n",
    "plt.plot(z, ω, color='blue', markerfacecolor='blue', linestyle='dashed')\r\n",
    "plt.title('Numerical solution (Gr={})'.format(Gr))\r\n",
    "plt.xlabel('Domain')\r\n",
    "plt.ylabel('Numerical Solution')\r\n",
    "plt.show()"
   ],
   "outputs": [],
   "metadata": {
    "tags": []
   }
  },
  {
   "cell_type": "code",
   "execution_count": null,
   "source": [
    "CalcInitialConditions(δ=0.01, Bi=2, Gr=0.03, z=-1, ω=0)"
   ],
   "outputs": [],
   "metadata": {}
  },
  {
   "cell_type": "code",
   "execution_count": null,
   "source": [
    "import numpy as np\r\n",
    "import matplotlib.pyplot as plt\r\n",
    "\r\n",
    "def FindSolution(z, v_initial, A_func, B_func, C_func, F_func, β0):   \r\n",
    "    ε = 1e-5\r\n",
    "\r\n",
    "    α = np.zeros(n+1)\r\n",
    "    β = np.zeros(n+1)\r\n",
    "\r\n",
    "    v = np.zeros(n)\r\n",
    "    v[0] = v_initial\r\n",
    "\r\n",
    "    α[0] = 0\r\n",
    "    β[0] = β0\r\n",
    "\r\n",
    "    for i in range(1, n):\r\n",
    "        v_t1 = v[i-1]\r\n",
    "        v_t2 = 0\r\n",
    "\r\n",
    "        while True:\r\n",
    "            Ai = A_func(i, v_t1)\r\n",
    "            Bi = B_func(i, v_t1)\r\n",
    "            Ci = C_func(i, v_t1)\r\n",
    "            Fi = F_func(i, v_t1)\r\n",
    "\r\n",
    "            α[i+1] = -Ci/(α[i]*Ai + Bi)\r\n",
    "            β[i+1] = (Fi-Ai*β[i])/(α[i]*Ai + Bi)\r\n",
    "            v_t2 = α[i+1]*v_t1 + β[i+1]\r\n",
    "\r\n",
    "            if abs(v_t1 - v_t2) <= ε:\r\n",
    "                break\r\n",
    "\r\n",
    "            v_t1 = v_t2\r\n",
    "\r\n",
    "        v[i] = v_t2\r\n",
    "\r\n",
    "        if i % 10 == 0:\r\n",
    "            print('-- {} value: {}'.format(i, v[i]))\r\n",
    "    return v\r\n",
    "\r\n",
    "def PrintSolution(z, v, title):\r\n",
    "    plt.plot(z, v, color='blue', markerfacecolor='blue', linestyle='dashed')\r\n",
    "    plt.title(title)\r\n",
    "    plt.xlabel('Domain')\r\n",
    "    plt.ylabel('Numerical Solution')\r\n",
    "    plt.show()"
   ],
   "outputs": [],
   "metadata": {}
  },
  {
   "cell_type": "markdown",
   "source": [
    "## Generate 'z' values"
   ],
   "metadata": {}
  },
  {
   "cell_type": "code",
   "execution_count": null,
   "source": [
    "import numpy as np\r\n",
    "\r\n",
    "z_left_border = -1.0\r\n",
    "z_right_border = 0.0\r\n",
    "\r\n",
    "n=100\r\n",
    "h=(z_right_border - z_left_border)/(n-1)\r\n",
    "\r\n",
    "z = np.zeros(n)\r\n",
    "for i in range(0, n):\r\n",
    "    z[i]=z_left_border + i*h\r\n",
    "\r\n",
    "print(z)"
   ],
   "outputs": [],
   "metadata": {
    "tags": []
   }
  },
  {
   "cell_type": "markdown",
   "source": [
    "## Set parameters"
   ],
   "metadata": {}
  },
  {
   "cell_type": "code",
   "execution_count": null,
   "source": [
    "τ = 1e-8\r\n",
    "\r\n",
    "δ=1\r\n",
    "Bi=-3\r\n",
    "Gr=0.03\r\n",
    "Pr=0.7"
   ],
   "outputs": [],
   "metadata": {}
  },
  {
   "cell_type": "markdown",
   "source": [
    "## Calculate 'ω'"
   ],
   "metadata": {}
  },
  {
   "cell_type": "code",
   "execution_count": null,
   "source": [
    "ω_initial = 0\r\n",
    "\r\n",
    "C1_func = lambda i: dP0(z[i], Bi, δ, Gr) - T0(z[i], Bi, δ, Gr)\r\n",
    "\r\n",
    "A_func = lambda i, v_t1: ((δ**2)/(h**2) + (Gr*(δ**2)*v_t1/(2*h)))\r\n",
    "B_func = lambda i, v_t1: -2*(δ**2)/(h**2) - 1/τ\r\n",
    "C_func = lambda i, v_t1: ((δ**2)/(h**2) - (Gr*(δ**2)*v_t1/(2*h)))\r\n",
    "F_func = lambda i, v_t1: C1_func(i) - v_t1/τ\r\n",
    "\r\n",
    "ω = FindSolution(z, ω_initial, A_func, B_func, C_func, F_func, 0)\r\n",
    "PrintSolution(z, ω, 'Numerical solution of ω, where δ={}, Bi={}, Gr={}'.format(δ, Bi, Gr))"
   ],
   "outputs": [],
   "metadata": {
    "tags": []
   }
  },
  {
   "cell_type": "markdown",
   "source": [
    "## Calculate 'u'"
   ],
   "metadata": {}
  },
  {
   "cell_type": "code",
   "execution_count": null,
   "source": [
    "u_initial = 0\r\n",
    "\r\n",
    "C2_func = lambda i: P11(z[i], Bi, δ, Gr)\r\n",
    "\r\n",
    "A_func = lambda i, v_t1: -(1/(h**2) + (Gr*ω[i]/(2*h)))\r\n",
    "B_func = lambda i, v_t1: 1/(h**2) + Gr*v_t1 - 1/τ\r\n",
    "C_func = lambda i, v_t1: -(1/(h**2) - (Gr*ω[i]/(2*h)))\r\n",
    "F_func = lambda i, v_t1: C2_func(i) - v_t1/τ\r\n",
    "\r\n",
    "u = FindSolution(z, u_initial, A_func, B_func, C_func, F_func, 0)\r\n",
    "PrintSolution(z, u, 'Numerical solution of u, where δ={}, Bi={}, Gr={}'.format(δ, Bi, Gr))"
   ],
   "outputs": [],
   "metadata": {
    "tags": []
   }
  },
  {
   "cell_type": "markdown",
   "source": [
    "## Calculate 'T11'"
   ],
   "metadata": {}
  },
  {
   "cell_type": "code",
   "execution_count": null,
   "source": [
    "t11_initial = -1\r\n",
    "\r\n",
    "A_func = lambda i, v_t1: 1/(Pr*(h**2)) + (Gr*ω[i]/(2*h))\r\n",
    "B_func = lambda i, v_t1: -(2/(Pr*(h**2)) + 2*Gr*u[i] + 1/τ)\r\n",
    "C_func = lambda i, v_t1: 1/(Pr*(h**2)) - (Gr*ω[i]/(2*h))\r\n",
    "F_func = lambda i, v_t1: -v_t1/τ\r\n",
    "\r\n",
    "t11 = FindSolution(z, t11_initial, A_func, B_func, C_func, F_func, -1)\r\n",
    "PrintSolution(z[2:], t11[2:], 'Numerical solution of t11, where δ={}, Bi={}, Gr={}'.format(δ, Bi, Gr))"
   ],
   "outputs": [],
   "metadata": {
    "tags": []
   }
  },
  {
   "cell_type": "markdown",
   "source": [
    "## Calculate 'T0'"
   ],
   "metadata": {}
  },
  {
   "cell_type": "code",
   "execution_count": null,
   "source": [
    "t0_initial = 0.5\r\n",
    "\r\n",
    "A_func = lambda i, v_t1: 1/(Pr*(h**2)) + (Gr*ω[i]/(2*h))\r\n",
    "B_func = lambda i, v_t1: -(2/(Pr*(h**2)) + 1/τ)\r\n",
    "C_func = lambda i, v_t1: 1/(Pr*(h**2)) - (Gr*ω[i]/(2*h))\r\n",
    "F_func = lambda i, v_t1: -v_t1/τ - ((δ**2)*t11[i])/Pr\r\n",
    "\r\n",
    "t0 = FindSolution(z, t0_initial, A_func, B_func, C_func, F_func, 0.5)\r\n",
    "PrintSolution(z[1:], t0[1:], 'Numerical solution of t0, where δ={}, Bi={}, Gr={}'.format(δ, Bi, Gr))"
   ],
   "outputs": [],
   "metadata": {}
  },
  {
   "cell_type": "markdown",
   "source": [
    "## Calculate 'P11'"
   ],
   "metadata": {}
  },
  {
   "cell_type": "code",
   "execution_count": null,
   "source": [
    "p11= np.zeros(n)\r\n",
    "p11[-1] = 0\r\n",
    "\r\n",
    "for i in range(2, n):\r\n",
    "    k1 = t11[-i]\r\n",
    "    k2 = t11[-i] # i-th value of 't11' \r\n",
    "    k3 = z[-i] # i-th value of 'z'\r\n",
    "    k4 = 0\r\n",
    "\r\n",
    "    p11[-(i+1)] = p11[-i] + (h/6)*(k1 + 2*k2 + 2*k3 + k4)"
   ],
   "outputs": [],
   "metadata": {}
  }
 ],
 "metadata": {
  "language_info": {
   "codemirror_mode": {
    "name": "ipython",
    "version": 3
   },
   "file_extension": ".py",
   "mimetype": "text/x-python",
   "name": "python",
   "nbconvert_exporter": "python",
   "pygments_lexer": "ipython3",
   "version": "3.9.6"
  },
  "orig_nbformat": 2,
  "kernelspec": {
   "name": "python3",
   "display_name": "Python 3.9.6 64-bit (system)"
  },
  "interpreter": {
   "hash": "f0b9ad3aa5289e4592502073046427ef42028bf34148f2da7a4db54da5a4e486"
  }
 },
 "nbformat": 4,
 "nbformat_minor": 2
}