{
 "cells": [
  {
   "cell_type": "code",
   "execution_count": 41,
   "metadata": {},
   "outputs": [],
   "source": [
    "l=1.0\n",
    "n=100\n",
    "h=l/(n-1)\n",
    "τ = 1e-4\n",
    "δ = 0.01\n",
    "Gr = 100\n",
    "C = 1\n",
    "\n",
    "from sympy import simplify, collect\n",
    "from sympy.abc import y, x, z, m, C, h, G, d, t\n",
    "m = x - t*((d**2)*(y - 2*x + z)/(h**2) - G*(d**2)*m*(y-z)/(2*h) - C)"
   ]
  },
  {
   "cell_type": "code",
   "execution_count": 51,
   "metadata": {},
   "outputs": [
    {
     "output_type": "execute_result",
     "data": {
      "text/plain": "-t*(-C - G*d**2*m*(y - z)/(2*h) + d**2*(-2*x + y + z)/h**2) + x",
      "text/latex": "$\\displaystyle - t \\left(- C - \\frac{G d^{2} m \\left(y - z\\right)}{2 h} + \\frac{d^{2} \\left(- 2 x + y + z\\right)}{h^{2}}\\right) + x$"
     },
     "metadata": {},
     "execution_count": 51
    }
   ],
   "source": [
    "collect(m, m)"
   ]
  },
  {
   "cell_type": "markdown",
   "metadata": {},
   "source": []
  }
 ],
 "metadata": {
  "language_info": {
   "codemirror_mode": {
    "name": "ipython",
    "version": 3
   },
   "file_extension": ".py",
   "mimetype": "text/x-python",
   "name": "python",
   "nbconvert_exporter": "python",
   "pygments_lexer": "ipython3",
   "version": "3.9.0-final"
  },
  "orig_nbformat": 2,
  "kernelspec": {
   "name": "python39064bit25f93b01dc6c466c8dbbb9de8d4a97a4",
   "display_name": "Python 3.9.0 64-bit"
  }
 },
 "nbformat": 4,
 "nbformat_minor": 2
}